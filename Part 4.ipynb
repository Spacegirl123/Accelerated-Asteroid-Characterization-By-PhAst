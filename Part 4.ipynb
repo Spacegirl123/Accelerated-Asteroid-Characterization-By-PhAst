{
 "cells": [
  {
   "cell_type": "markdown",
   "id": "97bc3d4f",
   "metadata": {},
   "source": [
    "---------------------------------------------------------"
   ]
  },
  {
   "cell_type": "markdown",
   "id": "8ea39a32",
   "metadata": {},
   "source": [
    "# PhAst Algorithm (Part 4 of 5): "
   ]
  },
  
  {
   "cell_type": "markdown",
   "id": "8ea39a32",
   "metadata": {},
   "source": [
    "#Generating Phase Curves to Determine the Asteroids Absolute Magnitude and Slope Parameter "
   ]
  },
  
  {
   "cell_type": "markdown",
   "id": "999e6f1b",
   "metadata": {},
   "source": [
    "## By Arushi Nath"
   ]
  },
  {
   "cell_type": "markdown",
   "id": "0d9b7c14",
   "metadata": {},
   "source": [
    "----------------------------------------------"
   ]
  },
  {
   "cell_type": "markdown",
   "id": "42224738",
   "metadata": {},
   "source": [
    "#### This Fourth Notebook will walk you through the steps of Determining the Reduced Magnitude of the asteroid. This will allow for the creation of phase curves to yield asteroid physical properties.\n"
   
   ]
  },
  
  {
   "cell_type": "markdown",
   "id": "0d9b7c14",
   "metadata": {},
   "source": [
    "----------------------------------------------"
   ]
  },
  {
   "cell_type": "markdown",
   "id": "c1e4a02c-3244-4f2a-9674-ff2211610fd6",
   "metadata": {},
   "source": [
    "# Sparse Photometry on Asteroids"
   ]
  },
  {
   "cell_type": "markdown",
   "id": "675bc132-9d4c-45cd-80db-457f834ab7d1",
   "metadata": {},
   "source": [
    "### 1. Importing Required Libraries"
   ]
  },
  {
   "cell_type": "code",
   "execution_count": null,
   "id": "73899d0f-7d40-4f1b-8550-f7fe39289e10",
   "metadata": {},
   "outputs": [],
   "source": [
    "### Import Necessary Libraries\n",
    "# Here we import all necessary libraries required for data manipulation, numerical calculations, and plotting. Key libraries include:\n",
    "# - matplotlib.pyplot for plotting graphs.\n",
    "# - numpy for numerical operations.\n",
    "# - astropy for astronomy-specific functions such as handling times and units.\n",
    "# - pandas for data manipulation and reading CSV files.\n",
    "# - pyedra and sbpy.photometry for specific asteroid curve modeling.\n",
    "\n",
    "import matplotlib.pyplot as plt\n",
    "import numpy as np\n",
    "from tqdm.notebook import tqdm\n",
    "from astropy.time import Time\n",
    "import csv\n",
    "import matplotlib.pyplot as plt\n",
    "import juliandate as jd\n",
    "import requests\n",
    "import pyedra\n",
    "from astropy.table import Table\n",
    "from astropy import units as un\n",
    "import sbpy.photometry as pm\n",
    "import scipy.optimize as sco\n",
    "import glob\n",
    "import pandas as pd\n",
    "from csv import writer\n",
    "import io\n",
    "import requests\n"
   ]
  },
  {
   "cell_type": "markdown",
   "id": "21bfc6e0-3b25-46e4-99bf-43a1cc53bc97",
   "metadata": {},
   "source": [
    "## QUERYING GAIA SPACE BASED SKY SURVEY FOR SERENDIPITOUS ASTEROID OBSERVATIONS"
   ]
  },
  {
   "cell_type": "markdown",
   "id": "9eda3973-aeaa-4373-824b-962521bb9bed",
   "metadata": {},
   "source": [
    "### 2. Querying GAIA to Find Asteroids Magnitude and Associated JD"
   ]
  },
  {
   "cell_type": "code",
   "execution_count": null,
   "id": "313adde0-112c-4ea8-8122-11044e2d5a35",
   "metadata": {},
   "outputs": [],
   "source": [
    "### Data Import and Filtering\n",
    "# Loading observational data from a CSV file and filtering based on the asteroid of interest. \n",
    "# Storing relevant data such as solution ID, source ID, and magnitudes in separate lists for further analysis.\n",
    "solution_id = []\n",
    "source_id = []\n",
    "observation_id = []\n",
    "MPC = []\n",
    "epoch_utc = []\n",
    "g_mag = []\n",
    "g_flux = []\n",
    "g_flux_error = []\n",
    "\n",
    "asteroid = '4786'  # Define the asteroid number\n",
    "\n",
    "with open(r\"combined.csv\", newline='') as f:\n",
    "    reader = csv.reader(f)\n",
    "    for row in reader:\n",
    "        if row[5] == asteroid:\n",
    "            if row[17] != 'null':\n",
    "                solution_id.append(float(row[0]))\n",
    "                source_id.append(float(row[1]))\n",
    "                observation_id.append(float(row[4]))\n",
    "                MPC.append(float(row[5]))\n",
    "                epoch_utc.append(float(row[8]))\n",
    "                g_mag.append(float(row[17]))\n",
    "                g_flux.append(float(row[18]))\n",
    "                g_flux_error.append(float(row[19]))\n",
    "\n",
    "Num = len(MPC)  # Count the number of observations for the specified asteroid\n"
   ]
  },
  {
   "cell_type": "code",
   "execution_count": null,
   "id": "bf57d075-c1ca-45c3-8675-864df8b2e8b9",
   "metadata": {},
   "outputs": [],
   "source": [
    "### Conversion to Visual Magnitude\n",
    "# Convert g-band magnitudes to V-band magnitudes. This cell assumes a direct conversion, which may need adjustment based on specific astronomical standards.\n",
    "\n"
   ]
  },
  {
   "cell_type": "markdown",
   "id": "3857a91d-b9ab-46aa-a84f-6287075f862c",
   "metadata": {},
   "source": [
    "### 3. Taking the Daily Average Magnitude"
   ]
  },
  {
   "cell_type": "code",
   "execution_count": null,
   "id": "8e26b12d-0b63-4fba-a23f-09fc1bdb5ef5",
   "metadata": {},
   "outputs": [],
   "source": [
    "### Light Curve Averaging\n",
    "# Processes the light curve data to average the observations by day. This reduces noise and accounts for any discrepancies in observation times. The tqdm library is used to show progress during processing.\n",
    "v_mag = []\n",
    "for i in g_mag:\n",
    "    v_mag.append(i)  # Directly appending g-band magnitudes to V-band list\n",
    "\n",
    "n = 0\n",
    "Mag_av = []\n",
    "epoch_utc_av = []\n",
    "\n",
    "Mag_avg = []\n",
    "epoch_utc_avg = []\n",
    "\n",
    "e2 = epoch_utc.copy()\n",
    "\n",
    "while n < len(epoch_utc):\n",
    "    try:\n",
    "        a = str(np.min(e2))[0:4]\n",
    "\n",
    "        for s in tqdm(range(len(epoch_utc))):\n",
    "            print(str(epoch_utc[s])[0:4], a)\n",
    "            if str(epoch_utc[s])[0:4] == a:\n",
    "                Mag_av.append(v_mag[s])\n",
    "                epoch_utc_av.append(epoch_utc[s])\n",
    "                n += 1\n",
    "                e2.remove(epoch_utc[s])\n",
    "        Mag_avg.append(np.average(Mag_av))\n",
    "        epoch_utc_avg.append(np.average(epoch_utc_av))\n"
   ]
  },
  {
   "cell_type": "code",
   "execution_count": null,
   "id": "26b49751-9091-4f3b-b5a0-7f83c2456533",
   "metadata": {},
   "outputs": [],
   "source": [
    "plt.scatter(epoch_utc_avg, Mag_avg)"
   ]
  },
  {
   "cell_type": "code",
   "execution_count": null,
   "id": "23cbf931-e771-4e97-a783-91f4d519175b",
   "metadata": {},
   "outputs": [],
   "source": [
    "### Convert and Adjust Data for Analysis by Converting to Julian Date\n",
    "\n",
    "mag = []  # List to store adjusted magnitudes\n",
    "JD = []   # List to store Julian Dates converted from epoch data\n",
    "\n",
    "for i in Mag_avg:\n",
    "    mag.append(i)\n",
    "\n",
    "# Converting epoch data to Julian Date format by adding a constant offset. This is a common practice in astronomy to align dates with a standard epoch.\n",
    "# 2455197.5 represents the Julian Date for a specific reference time, which needs to be adjusted based on the epoch data's starting point.\n",
    "for i in epoch_utc_avg:\n",
    "    JD.append(i + 2455197.5)"
   ]
  },
  {
   "cell_type": "markdown",
   "id": "7e597e14-99c1-4d56-9d63-46b17b5a4c51",
   "metadata": {},
   "source": [
    "### 4. Applying Unity Offsets to Account for Changing Distances"
   ]
  },
  {
   "cell_type": "code",
   "execution_count": null,
   "id": "7e3ee3ee-8ec5-45a6-8d8c-737b437b9d98",
   "metadata": {},
   "outputs": [],
   "source": [
    "### Generate API Link for Asteroid Phase Angle Data\n",
    "# This function constructs a URL for querying the JPL Horizons system to retrieve phase angle data for a specified asteroid over a given time range.\n",
    "# The function takes three parameters: the asteroid's identifier, the start time, and the end time for the query.\n",
    "\n",
    "def PA_finder(asteroid, START_TIME, END_TIME):\n",
    "    sep = ''  # Separator for joining strings; empty string implies direct concatenation without additional characters.\n",
    "\n",
    "    # Concatenating parts of the API request with the necessary parameters:\n",
    "    ast_mod = sep.join(\"&COMMAND=\" + asteroid)  # Appending the asteroid identifier to the command part of the URL.\n",
    "    start_mod = sep.join(\"&START_TIME=\" + START_TIME)  # Appending the start time for the data query.\n",
    "    end_mod = sep.join(\"&STOP_TIME=\" + END_TIME)  # Appending the end time for the data query.\n",
    "\n",
    "    # Base URL for the JPL Horizons system, formatted to request data in text format, querying data specifically for the 'Gaia' barycenter.\n",
    "    start = \"https://ssd.jpl.nasa.gov/api/horizons.api?format=text&CENTER='@gaia'&OBJ_DATA=NO&STEP_SIZE='1min'&QUANTITIES='19,20,24'\"\n",
    "\n",
    "    # Combining all parts to form the complete API link:\n",
    "    link = start, ast_mod, start_mod, end_mod\n",
    "    link = sep.join(link)  # Joining all parts into a single URL string.\n",
    "  \n",
    "    return link  # Returning the full URL for the API request.\n"
   ]
  },
  {
   "cell_type": "code",
   "execution_count": null,
   "id": "1cb0c007-4f14-4707-8bec-741794ac9f86",
   "metadata": {},
   "outputs": [],
   "source": [
    "### Retrieve and Parse Asteroid Data from API\n",
    "# This code block queries an API for astronomical data of an asteroid at specified Julian Dates (JD),\n",
    "# then parses and extracts relevant data such as the distance from the Sun, Earth, and the phase angle.\n",
    "\n",
    "Sun_dist = []    # List to hold the distance from the Sun\n",
    "Time_ast = []    # List to hold timestamps of the data\n",
    "Earth_dist = []  # List to hold the distance from Earth\n",
    "Phase_Angle = [] # List to hold the phase angle\n",
    "\n",
    "# Loop through each Julian Date to make an API call and process the returned data\n",
    "for s in tqdm(range(len(JD))):\n",
    "    # Setting up start and end times for the API request\n",
    "    START_TIME = str(\"JD\" + str(JD[s]))\n",
    "    END_TIME = str(\"JD\" + str(JD[s]+ 0.0007))\n",
    "\n",
    "    # Print the Julian Date to monitor progress\n",
    "    print(JD[s])\n",
    "\n",
    "    # Get the API query URL by calling the PA_finder function\n",
    "    ast_query = PA_finder(asteroid, START_TIME, END_TIME)\n",
    "\n",
    "    # Making the API request and getting the response\n",
    "    response_API = requests.get(ast_query)\n",
    "    data = response_API.text\n",
    "    \n",
    "    # Parsing the data received from the API\n",
    "    a = data.split(\"*\")\n",
    "    q = []\n",
    "    for i in a:\n",
    "        if i != '':\n",
    "            q.append(i)\n",
    "    \n",
    "    # Extracting the required information from the parsed data\n",
    "    qs = []\n",
    "    z = q[-3].split(\" \")\n",
    "    for i in z:\n",
    "        if i != '':\n",
    "            qs.append(i)\n",
    "    \n",
    "    # Appending the extracted data to their respective lists\n",
    "    Time_ast.append(qs[2] + \" \" + qs[1])  # Combining date and time for better readability\n",
    "    Sun_dist.append(float(qs[3]))        # Distance from the Sun\n",
    "    Earth_dist.append(float(qs[5]))      # Distance from Earth\n",
    "    Phase_Angle.append(float(qs[7][:-1]))  # Phase angle, removing the last character assumed to be non-numeric\n"
   ]
  },
  {
   "cell_type": "code",
   "execution_count": null,
   "id": "95446791-cf93-42a9-9bf5-6c99959104b9",
   "metadata": {},
   "outputs": [],
   "source": [
    "from astropy.time import Time\n",
    "t = Time(JD[0], format='jd')\n",
    "utc = t.to_datetime()"
   ]
  },
  {
   "cell_type": "code",
   "execution_count": null,
   "id": "d8d24806-10c9-4163-9630-bab71fca7e36",
   "metadata": {},
   "outputs": [],
   "source": [
    "### Applying Unity Offsets to get the Reduced Magnitude of the Asteroid\n",
    "Unity = []\n",
    "for i in range(len(mag)):\n",
    "    \n",
    "    a = mag[i] - 5*np.log10(Sun_dist[i]*Earth_dist[i])\n",
    "    Unity.append(a)"
   ]
  },
  {
   "cell_type": "code",
   "execution_count": null,
   "id": "c3a0479b-51b6-4796-95ed-da7a89536888",
   "metadata": {},
   "outputs": [],
   "source": [
    "### Plotting Phase Curve\n",
    "plt.scatter(Phase_Angle, Unity)\n",
    "#plt.ylim(8.1,7)\n",
    "plt.show()"
   ]
  },
  {
   "cell_type": "code",
   "execution_count": null,
   "id": "50066bf3-8108-4415-8401-ed56ec6e1cae",
   "metadata": {},
   "outputs": [],
   "source": [
    "paired_sorted = sorted(zip(Phase_Angle, Unity))\n",
    "Phase_Angle_Final, Unity_Final = zip(*paired_sorted)"
   ]
  },
  {
   "cell_type": "code",
   "execution_count": null,
   "id": "e1bd793c-5ac4-4809-ae1d-489a2710b837",
   "metadata": {},
   "outputs": [],
   "source": [
    "plt.scatter(Phase_Angle_Final, Unity_Final)\n",
    "#plt.ylim(8.1,7)\n",
    "plt.show()"
   ]
  },
  {
   "cell_type": "markdown",
   "id": "b824c7bc-11f7-44d7-afe9-f3cd22a16b5b",
   "metadata": {},
   "source": [
    "### 5. Applying Filter Offsets"
   ]
  },
  {
   "cell_type": "code",
   "execution_count": null,
   "id": "c9f67adb-2942-4640-af7f-80d97f018163",
   "metadata": {},
   "outputs": [],
   "source": [
    "### Applying Filter Offsets\n",
    "\n",
    "t1_GAIA = []\n",
    "t2_GAIA = []\n",
    "for i in range(len(Unity_Final)):\n",
    "    if Phase_Angle_Final[i] <=20:\n",
    "        a = Unity_Final[i] + 0.02269 - 0.01784*(0.45) + 1.016*(0.45)**2 - 0.2225*(0.45)**3 #V-R\n",
    "        #a = Unity_Final[i] +0.02907 + 0.02385*(0.684) + 0.2297*(0.684)**2 + 0.001768*(0.684)**3 #B-V\n",
    "        t1_GAIA.append(Phase_Angle_Final[i])\n",
    "        t2_GAIA.append(a)\n",
    "nysa = Table([t1_GAIA,t2_GAIA], names=('phase','V'))\n",
    "nysa['phase'].unit = 'deg'\n",
    "nysa['V'].unit = 'mag'\n",
    "print(nysa)"
   ]
  },
  {
   "cell_type": "markdown",
   "id": "f4660a48-39d7-4200-98c8-a1e9823eadaf",
   "metadata": {},
   "source": [
    "### 6. Creating H and G Curve"
   ]
  },
  {
   "cell_type": "code",
   "execution_count": null,
   "id": "3cfe5f5f-c5a3-4af8-b752-146665e721dc",
   "metadata": {},
   "outputs": [],
   "source": [
    " # Photometric system from sbpy package, photometry submodule\n",
    "def pf(xdeg,par1,par2):\n",
    "    return pm.HG.evaluate(xdeg*np.pi/180,par1,par2)\n",
    "# Sum-of-squares\n",
    "def sse_fun(x,data):\n",
    "    return sum([(pf(d[0],x[0],x[1])-d[1])**2 for d in data])\n",
    "# Fit function\n",
    "def fit_fun(data, x0=[6,0.12]):\n",
    "    cv = ({'type': 'ineq', 'fun': lambda x: x[1]},\n",
    "    {'type': 'ineq', 'fun': lambda x: 1-x[1]})\n",
    "    return sco.minimize(sse_fun,x0,args=data,constraints=cv,method='COBYLA')\n"
   ]
  },
  {
   "cell_type": "code",
   "execution_count": null,
   "id": "54f91033-daab-4a33-bba0-c018c9a7a233",
   "metadata": {},
   "outputs": [],
   "source": [
    "res = fit_fun(nysa)\n",
    "print(\"RMS of H,G-fit is {:2.8f}\".format(res.fun))\n",
    "print(\"Fitted H={:1.4f} and G={:1.6f}\".format(res.x[0],res.x[1]))"
   ]
  },
  {
   "cell_type": "code",
   "execution_count": null,
   "id": "ec6d421c-b5e1-4a45-be12-927c359bf3b3",
   "metadata": {},
   "outputs": [],
   "source": [
    "fx=np.linspace(nysa['phase'][0],nysa['phase'][-1],100)\n",
    "fy=np.array([pf(x,res.x[0],res.x[1]) for x in fx])\n",
    "g,p1=plt.subplots(1,1)\n",
    "p1.plot(nysa['phase'],nysa['V'],'bo')\n",
    "p1.plot(fx,fy,'r')\n",
    "p1.set_title('Themis (GAIA)')\n",
    "p1.set_xlabel('phase angle (deg)')\n",
    "p1.set_ylabel('G mag')\n",
    "p1.invert_yaxis()"
   ]
  },
  {
   "cell_type": "code",
   "execution_count": null,
   "id": "a9908d80-aad1-4237-b918-01e9cc34036c",
   "metadata": {},
   "outputs": [],
   "source": []
  },
  {
   "cell_type": "markdown",
   "id": "66e5921f-8142-4b74-a384-d5b3ebc63ad3",
   "metadata": {},
   "source": [
    "## QUERYING ZTF ALL SKY SURVEY FOR SERENDIPITOUS ASTEROID OBSERVATIONS"
   ]
  },
  {
   "cell_type": "markdown",
   "id": "f2b45a90-a143-4816-a369-8f00e63d5c8c",
   "metadata": {},
   "source": [
    "### 1. Querying FINK Server"
   ]
  },
  {
   "cell_type": "code",
   "execution_count": null,
   "id": "efd91afb-502a-4803-9e42-a6f3165231b0",
   "metadata": {},
   "outputs": [],
   "source": [
    "r = requests.post(\n",
    "  'https://fink-portal.org/api/v1/sso',\n",
    "  json={\n",
    "    'n_or_d': asteroid,\n",
    "    'output-format': 'json',\n",
    "    #'columns': 'i:jd,i:magpsf'\n",
    "  }\n",
    ")\n",
    "\n",
    "# Format output in a DataFrame\n",
    "pdf = pd.read_json(io.BytesIO(r.content))"
   ]
  },
  {
   "cell_type": "code",
   "execution_count": null,
   "id": "e6e6f80e-b02d-45fd-bc5d-c2e2619c16c1",
   "metadata": {},
   "outputs": [],
   "source": [
    "#{\"doc\":\"Filter ID (1=g; 2=R; 3=i)\n",
    "#V-g = -0.4508 and V-r=0.3379 (with ZTF filters)\n",
    "JD = []\n",
    "mag = []\n",
    "for i in range(len(pdf['i:jd'])):\n",
    "    if pdf['i:fid'][i]==2:\n",
    "        JD.append(pdf['i:jd'][i])\n",
    "    \n",
    "for i in range(len(pdf['i:magpsf'])):\n",
    "    if pdf['i:fid'][i]==2:\n",
    "        \n",
    "        mag.append((pdf['i:magpsf'][i]))#-0.4508"
   ]
  },
  {
   "cell_type": "markdown",
   "id": "a4a1a98c-aadc-4961-82d6-5ba2d224bc7c",
   "metadata": {},
   "source": [
    "### 2. Applying Unity Offsets to Get Reduced Magnitude"
   ]
  },
  {
   "cell_type": "code",
   "execution_count": null,
   "id": "d7116506-704e-44dd-9eae-5a5ad305ad53",
   "metadata": {},
   "outputs": [],
   "source": [
    "def PA_finder(asteroid, START_TIME, END_TIME): \n",
    "\n",
    "    sep = ''\n",
    "    ast_mod = sep.join(\"&COMMAND=\" + asteroid)\n",
    "    start_mod = sep.join(\"&START_TIME=\" + START_TIME)\n",
    "    end_mod = sep.join(\"&STOP_TIME=\" + END_TIME)\n",
    "   \n",
    "    start = \"https://ssd.jpl.nasa.gov/api/horizons.api?format=text&OBJ_DATA=NO&STEP_SIZE='1min'&QUANTITIES='19,20,24'\"\n",
    "    link = start, ast_mod, start_mod, end_mod\n",
    "    link = sep.join(link)\n",
    " \n",
    "    return link"
   ]
  },
  {
   "cell_type": "code",
   "execution_count": null,
   "id": "f8ac1c30-aed9-4888-8fe5-094c9e23d1fe",
   "metadata": {},
   "outputs": [],
   "source": [
    "Sun_dist = []\n",
    "Time_ast = []\n",
    "Earth_dist = []\n",
    "Phase_Angle = []\n",
    "for s in tqdm(range(len(JD))):\n",
    "  \n",
    "    START_TIME = str(\"JD\" + str(JD[s]))\n",
    "    END_TIME = str(\"JD\" + str(JD[s]+ 0.0007))\n",
    "    print(JD[s])\n",
    "    ast_query = PA_finder(asteroid, START_TIME, END_TIME)\n",
    "    \n",
    "    response_API = requests.get(ast_query)\n",
    "    data = response_API.text\n",
    "    \n",
    "    \n",
    "    a = data.split(\"*\")\n",
    "    q = []\n",
    "    for i in a:\n",
    "        if i != '':\n",
    "            q.append(i)\n",
    "        \n",
    "    qs = []\n",
    "    z = q[-3].split(\" \")\n",
    "    for i in z:\n",
    "        if i != '':\n",
    "            qs.append(i)\n",
    "    Time_ast.append(qs[2] + \" \" + qs[1])\n",
    "    Sun_dist.append(float(qs[3]))\n",
    "    Earth_dist.append(float(qs[5]))\n",
    "    Phase_Angle.append(float(qs[7][:-1]))"
   ]
  },
  {
   "cell_type": "code",
   "execution_count": null,
   "id": "6f85a324-c62f-409b-91e8-623d650d2e97",
   "metadata": {},
   "outputs": [],
   "source": [
    "from astropy.time import Time\n",
    "t = Time(JD[0], format='jd')\n",
    "utc = t.to_datetime()"
   ]
  },
  {
   "cell_type": "code",
   "execution_count": null,
   "id": "25c5e17e-daa2-4b1a-933b-73673f4a3f46",
   "metadata": {},
   "outputs": [],
   "source": [
    "plt.scatter(JD, Phase_Angle)"
   ]
  },
  {
   "cell_type": "code",
   "execution_count": null,
   "id": "cd9205ee-1867-4b58-a3c5-1605834dbc59",
   "metadata": {},
   "outputs": [],
   "source": [
    "plt.scatter(Phase_Angle, mag)"
   ]
  },
  {
   "cell_type": "code",
   "execution_count": null,
   "id": "5d0619cb-38cf-4393-931d-5c227ad55ed0",
   "metadata": {},
   "outputs": [],
   "source": [
    "Unity = []\n",
    "for i in range(len(mag)):\n",
    "    \n",
    "    a = mag[i] - 5*np.log10(Sun_dist[i]*Earth_dist[i])\n",
    "    Unity.append(a)"
   ]
  },
  {
   "cell_type": "code",
   "execution_count": null,
   "id": "f2b30d00-a0ad-4785-85ce-6dd368f740d7",
   "metadata": {},
   "outputs": [],
   "source": [
    "plt.scatter(JD, mag)"
   ]
  },
  {
   "cell_type": "code",
   "execution_count": null,
   "id": "2268f02e-9493-4e8d-99ae-bf6bf8fd81b4",
   "metadata": {},
   "outputs": [],
   "source": [
    "plt.scatter(JD, Unity)"
   ]
  },
  {
   "cell_type": "code",
   "execution_count": null,
   "id": "78a39e97-10eb-4bea-8d22-0525884546da",
   "metadata": {},
   "outputs": [],
   "source": [
    "plt.scatter(Phase_Angle, Unity)\n",
    "#plt.ylim(8.1,7)\n",
    "plt.show()"
   ]
  },
  {
   "cell_type": "code",
   "execution_count": null,
   "id": "e4de1f20-3e0d-404a-97af-bef7cc47a191",
   "metadata": {},
   "outputs": [],
   "source": [
    "paired_sorted = sorted(zip(Phase_Angle, Unity))\n",
    "Phase_Angle_Final, Unity_Final = zip(*paired_sorted)"
   ]
  },
  {
   "cell_type": "code",
   "execution_count": null,
   "id": "a20cdeca-3c4e-469c-abc0-7274551d105f",
   "metadata": {},
   "outputs": [],
   "source": [
    "plt.scatter(Phase_Angle, Unity)\n",
    "#plt.ylim(8.1,7)\n",
    "plt.show()"
   ]
  },
  {
   "cell_type": "code",
   "execution_count": null,
   "id": "25a9be06-1369-4187-9f45-1d78a3434422",
   "metadata": {},
   "outputs": [],
   "source": [
    "plt.scatter(Phase_Angle_Final, Unity_Final)\n",
    "#plt.ylim(8.1,7)\n",
    "plt.show()"
   ]
  },
  {
   "cell_type": "markdown",
   "id": "fdfd5c78-ba12-4ab1-bb14-bfcb9be48665",
   "metadata": {},
   "source": [
    "### 3. Applying Filter Offsets"
   ]
  },
  {
   "cell_type": "code",
   "execution_count": null,
   "id": "1d6f5018-7cfa-4ee2-a746-4ec7ddc683ff",
   "metadata": {},
   "outputs": [],
   "source": [
    "\n",
    "t2_ZTF = []\n",
    "t1_ZTF = []\n",
    "for i in range(len(Unity_Final)):\n",
    "    if float(Phase_Angle_Final[i]) <=20:\n",
    "        t2_ZTF.append(Unity_Final[i]+0.3379)\n",
    "       \n",
    "        t1_ZTF.append(Phase_Angle_Final[i])\n",
    "    \n",
    "nysa = Table([t1_ZTF,t2_ZTF], names=('phase','V'))\n",
    "nysa['phase'].unit = 'deg'\n",
    "nysa['V'].unit = 'mag'\n",
    "print(nysa)"
   ]
  },
  {
   "cell_type": "markdown",
   "id": "25b63c56-c359-4995-97a6-6f46c0946b2d",
   "metadata": {},
   "source": [
    "### 4. Creating H and G Curve"
   ]
  },
  {
   "cell_type": "code",
   "execution_count": null,
   "id": "76395b33-ea90-4834-bb4c-f6780ccb311c",
   "metadata": {},
   "outputs": [],
   "source": [
    "res = fit_fun(nysa)\n",
    "print(\"RMS of H,G-fit is {:2.8f}\".format(res.fun))\n",
    "print(\"Fitted H={:1.4f} and G={:1.6f}\".format(res.x[0],res.x[1]))"
   ]
  },
  {
   "cell_type": "code",
   "execution_count": null,
   "id": "617e51b6-d98d-44d1-a5c9-f17e23d311b2",
   "metadata": {},
   "outputs": [],
   "source": [
    "fx=np.linspace(nysa['phase'][0],nysa['phase'][-1],100)\n",
    "fy=np.array([pf(x,res.x[0],res.x[1]) for x in fx])\n",
    "#g,p1=plt.subplots(1,1)\n",
    "plt.figure(figsize=(7, 5))\n",
    "plt.plot(nysa['phase'],nysa['V'],'bo')\n",
    "plt.plot(fx,fy,'r')\n",
    "plt.title('Themis (ZTF Telescope)')\n",
    "plt.xlabel('Phase Angle (deg)')\n",
    "plt.ylabel('V magnitude')\n",
    "plt.ylim(max(nysa['V']+0.05), min(nysa['V']-0.1))\n",
    "plt.show()"
   ]
  },
  {
   "cell_type": "markdown",
   "id": "77f6e97c-665b-49ed-843c-2abbb3377464",
   "metadata": {},
   "source": [
    "## QUERYING ALCDEF OBSERVATIONS"
   ]
  },
  {
   "cell_type": "markdown",
   "id": "5ac44444-73c2-400b-9b2e-02482204a565",
   "metadata": {},
   "source": [
    "### 1. Querying File for All ALCDEF Observations of Didymos"
   ]
  },
  {
   "cell_type": "code",
   "execution_count": null,
   "id": "a3e72f77-9c69-443e-ae81-9ecc025d773c",
   "metadata": {},
   "outputs": [],
   "source": [
    "g_mag = []\n",
    "JD2 = []\n",
    "epoch_utc = []\n",
    "Error = []\n",
    "Color = []\n",
    "with open(r\"Tatianina SPARSE.csv\", newline='') as f:\n",
    "  reader = csv.reader(f)\n",
    "  for row in reader:\n",
    "      \n",
    "    print(row)\n",
    "    \n",
    "    g_mag.append((row[1]))\n",
    "    \n",
    "    epoch_utc.append((row[0]))\n",
    "    \n",
    "    \n",
    "    #Color.append(row[3])\n",
    "g_mag = g_mag[1:]\n",
    "g_mag = [eval(i) for i in g_mag]\n",
    "\n",
    "epoch_utc = epoch_utc[1:]\n",
    "\n",
    "epoch_utc = [eval(i) for i in epoch_utc]\n",
    "\n",
    "Error = Error[1:]\n",
    "Error = [eval(i) for i in Error]"
   ]
  },
  {
   "cell_type": "code",
   "execution_count": null,
   "id": "0fdaffc4-e84f-436e-9dd7-958c8d9d521a",
   "metadata": {},
   "outputs": [],
   "source": [
    "n = 0\n",
    "Mag_av = []\n",
    "epoch_utc_av = []\n",
    "\n",
    "Mag_avg = []\n",
    "epoch_utc_avg = []\n",
    "\n",
    "e2 = epoch_utc.copy()\n",
    "\n",
    "while n< len(epoch_utc):\n",
    "    try:\n",
    "        a = str(np.min(e2))[0:7]\n",
    "    \n",
    "        for s in tqdm(range(len(epoch_utc))):\n",
    "            print(str(epoch_utc[s])[0:7], a)\n",
    "            if str(epoch_utc[s])[0:7] == a:\n",
    "    \n",
    "            \n",
    "                Mag_av.append(g_mag[s])\n",
    "                epoch_utc_av.append(epoch_utc[s])\n",
    "                n+=1\n",
    "                e2.remove(epoch_utc[s])\n",
    "        Mag_avg.append(np.average(Mag_av))\n",
    "        epoch_utc_avg.append(np.average(epoch_utc_av))\n",
    "        Mag_av = []\n",
    "        epoch_utc_av = []\n",
    "\n",
    "    except:\n",
    "        pass"
   ]
  },
  {
   "cell_type": "code",
   "execution_count": null,
   "id": "230f3991-db87-47a4-9396-06c0896a7e30",
   "metadata": {},
   "outputs": [],
   "source": [
    "plt.scatter(epoch_utc_avg, Mag_avg)"
   ]
  },
  {
   "cell_type": "code",
   "execution_count": null,
   "id": "67901238-6ea3-409e-a447-f42557121e11",
   "metadata": {},
   "outputs": [],
   "source": [
    "mag = []\n",
    "JD = []\n",
    "for i in Mag_avg:\n",
    "    mag.append(i)\n",
    "for i in epoch_utc_avg:\n",
    "    JD.append(i)"
   ]
  },
  {
   "cell_type": "markdown",
   "id": "951a283d-793e-4190-98cc-47e0c506903c",
   "metadata": {},
   "source": [
    "### 2. Applying Unity Offsets to get Reduced Magnitude"
   ]
  },
  {
   "cell_type": "code",
   "execution_count": null,
   "id": "f62e69bb-b1ba-4e81-9c84-32261928ad28",
   "metadata": {},
   "outputs": [],
   "source": [
    "def PA_finder(asteroid, START_TIME, END_TIME): \n",
    "\n",
    "    sep = ''\n",
    "    ast_mod = sep.join(\"&COMMAND=\" + asteroid)\n",
    "    start_mod = sep.join(\"&START_TIME=\" + START_TIME)\n",
    "    end_mod = sep.join(\"&STOP_TIME=\" + END_TIME)\n",
    "   \n",
    "    start = \"https://ssd.jpl.nasa.gov/api/horizons.api?format=text&OBJ_DATA=NO&STEP_SIZE='1min'&QUANTITIES='19,20,24'\"\n",
    "    link = start, ast_mod, start_mod, end_mod\n",
    "    link = sep.join(link)\n",
    " \n",
    "    return link"
   ]
  },
  {
   "cell_type": "code",
   "execution_count": null,
   "id": "dab03ea2-854e-49b8-be2d-46623407f2ed",
   "metadata": {},
   "outputs": [],
   "source": [
    "### Collect and Process Astronomical Data\n",
    "# This code retrieves specific astronomical data for an asteroid at given times and processes it to extract distances and phase angles.\n",
    "\n",
    "Sun_dist = []    # List to store distances from the Sun\n",
    "Time_ast = []    # List to store time of each data point\n",
    "Earth_dist = []  # List to store distances from Earth\n",
    "Phase_Angle = [] # List to store phase angles\n",
    "\n",
    "# Loop through each Julian Date to query astronomical data\n",
    "for s in tqdm(range(len(JD))):\n",
    "    # Construct API request times based on the Julian Date\n",
    "    START_TIME = \"JD\" + str(JD[s])\n",
    "    END_TIME = \"JD\" + str(JD[s] + 0.0007)  # Small increment to define a range around the given JD\n",
    "    print(JD[s])  # Output current Julian Date being processed\n",
    "\n",
    "    # Generate the API request URL\n",
    "    ast_query = PA_finder(asteroid, START_TIME, END_TIME)\n",
    "    \n",
    "    # Send the API request and capture the response\n",
    "    response_API = requests.get(ast_query)\n",
    "    data = response_API.text  # API response text\n",
    "    \n",
    "    # Split the response text to parse the relevant data\n",
    "    a = data.split(\"*\")\n",
    "    q = [i for i in a if i]  # Filter out empty strings from the split results\n",
    "    \n",
    "    # Parse the specific data segment from the response\n",
    "    qs = []\n",
    "    z = q[-3].split(\" \")  # Select the third-last item from 'q' and split it by spaces\n",
    "    qs = [i for i in z if i]  # Filter out empty strings from 'z'\n",
    "    \n",
    "    # Extract and store the specific data elements\n",
    "    Time_ast.append(qs[2] + \" \" + qs[1])  # Combine date and time for better readability\n",
    "    Sun_dist.append(float(qs[3]))  # Convert the Sun distance to float and store\n",
    "    Earth_dist.append(float(qs[5]))  # Convert the Earth distance to float and store\n",
    "    Phase_Angle.append(float(qs[7][:-1]))  # Extract the phase angle, remove the last character, convert to float and store\n"
   ]
  },
  {
   "cell_type": "code",
   "execution_count": null,
   "id": "f5a0a554-aa5e-4db7-9ec4-3dcd2e59c814",
   "metadata": {},
   "outputs": [],
   "source": [
    "from astropy.time import Time\n",
    "t = Time(JD[0], format='jd')\n",
    "utc = t.to_datetime()"
   ]
  },
  {
   "cell_type": "code",
   "execution_count": null,
   "id": "9cc85e60-ee88-4dcd-a669-3aca1763802f",
   "metadata": {},
   "outputs": [],
   "source": [
    "plt.scatter(JD, Phase_Angle)"
   ]
  },
  {
   "cell_type": "code",
   "execution_count": null,
   "id": "9092a0cc-8246-4544-92fc-b39f802af953",
   "metadata": {},
   "outputs": [],
   "source": [
    "plt.scatter(Phase_Angle, mag)"
   ]
  },
  {
   "cell_type": "code",
   "execution_count": null,
   "id": "6548ee84-0956-4bfe-96fe-0c5d1b314fb6",
   "metadata": {},
   "outputs": [],
   "source": [
    "Unity = []\n",
    "for i in range(len(mag)):\n",
    "    \n",
    "    a = mag[i] - 5*np.log10(Sun_dist[i]*Earth_dist[i])\n",
    "    Unity.append(a)"
   ]
  },
  {
   "cell_type": "code",
   "execution_count": null,
   "id": "23644fbd-a156-4d6c-a99c-01dcbc1dcccb",
   "metadata": {},
   "outputs": [],
   "source": [
    "plt.scatter(JD, mag)"
   ]
  },
  {
   "cell_type": "code",
   "execution_count": null,
   "id": "e615f3e3-b8aa-446d-9e5e-5e59f4b2e5f4",
   "metadata": {},
   "outputs": [],
   "source": [
    "plt.scatter(JD, Unity)"
   ]
  },
  {
   "cell_type": "code",
   "execution_count": null,
   "id": "45fa987f-3df8-4c17-bb3e-9d64014d796c",
   "metadata": {},
   "outputs": [],
   "source": [
    "paired_sorted = sorted(zip(Phase_Angle, Unity))\n",
    "Phase_Angle_Final, Unity_Final = zip(*paired_sorted)"
   ]
  },
  {
   "cell_type": "code",
   "execution_count": null,
   "id": "3674ec00-2dce-4290-abef-d7131820f566",
   "metadata": {},
   "outputs": [],
   "source": [
    "plt.scatter(Phase_Angle, Unity)\n",
    "#plt.ylim(8.1,7)\n",
    "plt.show()"
   ]
  },
  {
   "cell_type": "code",
   "execution_count": null,
   "id": "c9011374-e258-4bf5-9af1-c57a8b2b1f14",
   "metadata": {},
   "outputs": [],
   "source": [
    "plt.scatter(Phase_Angle_Final, Unity_Final)\n",
    "#plt.ylim(8.1,7)\n",
    "plt.show()"
   ]
  },
  {
   "cell_type": "markdown",
   "id": "41b9e7dd-2abe-469c-a6b8-e8cc2c375227",
   "metadata": {},
   "source": [
    "### 3. Applying Filter Offsets"
   ]
  },
  {
   "cell_type": "code",
   "execution_count": null,
   "id": "1a800627-68e5-4f97-addf-bb5a6b99245d",
   "metadata": {},
   "outputs": [],
   "source": [
    "### Applying Filter Conversions for ALCDEF data\n",
    "\n",
    "t2_ALCDEF = []\n",
    "t1_ALCDEF = Phase_Angle_Final\n",
    "for i in Unity_Final:\n",
    "    t2_ALCDEF.append(i+1.18)\n",
    "nysa = Table([t1_ALCDEF,t2_ALCDEF], names=('phase','V'))\n",
    "nysa['phase'].unit = 'deg'\n",
    "nysa['V'].unit = 'mag'\n",
    "print(nysa)"
   ]
  },
  {
   "cell_type": "markdown",
   "id": "dcc38fd6-31d6-4f56-90f4-3337be2f4cee",
   "metadata": {},
   "source": [
    "### 4. Creating H and G Curves"
   ]
  },
  {
   "cell_type": "code",
   "execution_count": null,
   "id": "9cdd463d-7b34-4c87-a9a4-aebc50501a15",
   "metadata": {},
   "outputs": [],
   "source": [
    "res = fit_fun(nysa)\n",
    "print(\"RMS of H,G-fit is {:2.8f}\".format(res.fun))\n",
    "print(\"Fitted H={:1.4f} and G={:1.6f}\".format(res.x[0],res.x[1]))"
   ]
  },
  {
   "cell_type": "code",
   "execution_count": null,
   "id": "b9e38055-02a2-4c88-9e6c-c85350810e3c",
   "metadata": {},
   "outputs": [],
   "source": [
    "fx=np.linspace(nysa['phase'][0],nysa['phase'][-1],100)\n",
    "fy=np.array([pf(x,res.x[0],res.x[1]) for x in fx])\n",
    "#g,p1=plt.subplots(1,1)\n",
    "plt.figure(figsize=(6, 5))\n",
    "plt.plot(nysa['phase'],nysa['V'],'bo')\n",
    "plt.plot(fx,fy,'r')\n",
    "plt.title('Themis (ALCDEF)')\n",
    "plt.xlabel('Phase Angle (deg)')\n",
    "plt.ylabel('R magnitude')\n",
    "plt.ylim(max(nysa['V']+0.05), min(nysa['V']-0.05))\n",
    "plt.show()"
   ]
  },
  {
   "cell_type": "code",
   "execution_count": null,
   "id": "3054458f-4179-465f-84f9-ea32b2026196",
   "metadata": {},
   "outputs": [],
   "source": []
  },
  {
   "cell_type": "code",
   "execution_count": null,
   "id": "0ae219c1-3b7f-49fe-801e-f18252fc68d0",
   "metadata": {},
   "outputs": [],
   "source": []
  },
  {
   "cell_type": "markdown",
   "id": "e2ed3ede-f144-4f81-a7ed-f3c5f9043b65",
   "metadata": {},
   "source": [
    "## COMBINING ALL SKY SURVEYS AND CITIZEN SCIENTIST OBSERVATIONS"
   ]
  },
  {
   "cell_type": "code",
   "execution_count": null,
   "id": "247c4a22-a60e-42e0-a21d-6fdffdd92780",
   "metadata": {},
   "outputs": [],
   "source": [
    "phase_angle_total = []\n",
    "unity_total = []\n",
    "\n",
    "for i in range(len(t1_GAIA)):\n",
    "    phase_angle_total.append(t1_GAIA[i])\n",
    "    unity_total.append(t2_GAIA[i])\n",
    "for i in range(len(t1_ZTF)):\n",
    "    phase_angle_total.append(t1_ZTF[i])\n",
    "    unity_total.append(t2_ZTF[i])\n",
    "for i in range(len(t1_ALCDEF[-2:-1])):\n",
    "    phase_angle_total.append(t1_ALCDEF[i])\n",
    "    unity_total.append(t2_ALCDEF[i])"
   ]
  },
  {
   "cell_type": "code",
   "execution_count": null,
   "id": "665aacba-e440-4246-95b9-85ea1ae7d0cc",
   "metadata": {},
   "outputs": [],
   "source": [
    "paired_sorted = sorted(zip(phase_angle_total, unity_total))\n",
    "t1_total, t2_total = zip(*paired_sorted)"
   ]
  },
  {
   "cell_type": "code",
   "execution_count": null,
   "id": "5fd28077-0e09-4216-8904-7395f2ef934a",
   "metadata": {},
   "outputs": [],
   "source": [
    "nysa = Table([t1_total[0:-1],t2_total[0:-1]], names=('phase','V'))\n",
    "nysa['phase'].unit = 'deg'\n",
    "nysa['V'].unit = 'mag'\n",
    "print(nysa)"
   ]
  },
  {
   "cell_type": "code",
   "execution_count": null,
   "id": "42a6a059-9ae8-42e5-9f07-c2912ae14a33",
   "metadata": {},
   "outputs": [],
   "source": [
    "res = fit_fun(nysa)\n",
    "print(\"RMS of H,G-fit is {:2.8f}\".format(res.fun))\n",
    "print(\"Fitted H={:1.4f} and G={:1.6f}\".format(res.x[0],res.x[1]))"
   ]
  },
  {
   "cell_type": "code",
   "execution_count": null,
   "id": "7a361533-9e91-49d1-9d67-7a7bae86c878",
   "metadata": {},
   "outputs": [],
   "source": [
    "x_specific = nysa['phase'] \n",
    "# Calculate fitted y values for these specific x values\n",
    "fy_specific = np.array([pf(x, res.x[0], res.x[1]) for x in x_specific])\n",
    "rmse = np.sqrt(np.mean((nysa['V'] - fy_specific) ** 2))"
   ]
  },
  {
   "cell_type": "code",
   "execution_count": null,
   "id": "bf8ed775-2e96-4cc1-99c3-b9a70ffa2477",
   "metadata": {},
   "outputs": [],
   "source": [
    "rmse"
   ]
  },
  {
   "cell_type": "code",
   "execution_count": null,
   "id": "f0863d96-f34f-4841-8981-3e7f1db03cce",
   "metadata": {},
   "outputs": [],
   "source": [
    "fx=np.linspace(nysa['phase'][0],nysa['phase'][-1],100)\n",
    "fy=np.array([pf(x,res.x[0],res.x[1]) for x in fx])\n",
    "#g,p1=plt.subplots(1,1)\n",
    "plt.figure(figsize=(7, 6))\n",
    "#plt.plot(nysa['phase'],nysa['V'],'bo')\n",
    "plt.plot(t1_ZTF,t2_ZTF,'bo', c = '#22b322', marker = '^', markersize=11) #Green\n",
    "plt.plot(t1_GAIA,t2_GAIA,'bo', c = '#ffd745', marker = '*', markersize=18) #Yellow\n",
    "plt.plot(t1_ALCDEF[-2:-1],t2_ALCDEF[-2:-1],'bo', c = '#2f94d4', marker = 's', markersize=10) #Blue\n",
    "plt.legend(['ZTF Sky Survey (Ground Based)', 'GAIA Sky Survey (Space Based)', 'Citizen Scientist Observations (ALCDEF)'], facecolor='w', labelcolor='k', prop = { \"size\": 12 }, loc =\"upper right\")\n",
    "#plt.legend(facecolor='k', labelcolor='w')\n",
    "plt.plot(fx,fy,'r')\n",
    "plt.title('Summerfield Asteroid')\n",
    "plt.xlabel('Phase Angle (Degrees)')\n",
    "plt.ylabel('Reduced Magnitude (V)')\n",
    "plt.ylim(max(nysa['V']+0.05), min(nysa['V']-0.1))\n",
    "plt.show()"
   ]
  },
  {
   "cell_type": "code",
   "execution_count": null,
   "id": "8fcd0b42-a0f4-48b4-b158-833604a679e5",
   "metadata": {},
   "outputs": [],
   "source": [
    "x_specific = nysa['phase'] \n",
    "fy_specific = np.array([pf(x, res.x[0], res.x[1]) for x in x_specific])\n",
    "rmse = np.sqrt(np.mean((nysa['V'] - fy_specific) ** 2))\n",
    "            \n",
    "\n",
    "residuals = nysa['V'] - fy_specific\n",
    "std_dev = np.std(residuals)\n",
    "\n",
    "within_2_std = np.abs(residuals) <= 1 * std_dev\n",
    "\n",
    "\n",
    "filtered_ast = nysa[within_2_std]\n",
    "\n",
    "filtered3_Phase = filtered_ast[\"phase\"]\n",
    "filtered3_Unity = filtered_ast[\"V\"]\n",
    "        \n",
    "f1_ZTF = []\n",
    "f2_ZTF = []\n",
    "f1_GAIA = []\n",
    "f2_GAIA = []\n",
    "\n",
    "for i in range(len(filtered_ast[\"phase\"])):\n",
    "    if filtered_ast[\"phase\"][i] in t1_ZTF:\n",
    "        \n",
    "        f1_ZTF.append(filtered_ast[\"phase\"][i])\n",
    "        f2_ZTF.append(filtered_ast[\"V\"][i])\n",
    "\n",
    "    if filtered_ast[\"phase\"][i] in t1_GAIA:\n",
    "        \n",
    "        f1_GAIA.append(filtered_ast[\"phase\"][i])\n",
    "        f2_GAIA.append(filtered_ast[\"V\"][i])\n",
    "        \n",
    "\n",
    "plt.figure(figsize=(6, 4))\n",
    "#plt.plot(nysa['phase'],nysa['V'],'bo')\n",
    "f1_ZTF = np.array(f1_ZTF)\n",
    "f2_ZTF = np.array(f2_ZTF)\n",
    "\n",
    "#f1_ZTF[30:43] = np.nan\n",
    "#f2_ZTF[30:43] = np.nan\n",
    "\n",
    "#f1_ZTF[65:70] = np.nan\n",
    "#f2_ZTF[65:70] = np.nan\n",
    "\n",
    "#f1_ZTF[30:80] = np.nan\n",
    "#f2_ZTF[30:80] = np.nan\n",
    "\n",
    "#f1_ZTF[100:110] = np.nan\n",
    "#f2_ZTF[100:110] = np.nan\n",
    "\n",
    "\n",
    "#t1_ALCDEF = [x - 2 for x in t1_ALCDEF]\n",
    "#t2_ALCDEF = [x + 0.04 for x in t2_ALCDEF]\n",
    "\n",
    "plt.plot(f1_ZTF,f2_ZTF,'bo', c = '#22b322', marker = '^', markersize=11) #Green\n",
    "plt.plot(f1_GAIA,f2_GAIA,'bo', c = '#ffd745', marker = '*', markersize=18) #Yellow\n",
    "plt.plot(t1_ALCDEF,t2_ALCDEF,'bo', c = '#2f94d4', marker = 's', markersize=10) #Blue\n",
    "\n",
    "#plt.scatter(nysa[within_2_std][\"phase\"],nysa[within_2_std][\"V\"])\n",
    "#plt.legend(['ZTF Sky Survey', 'GAIA Sky Survey', 'Citizen Scientist Observations (ALCDEF)'], facecolor='w', labelcolor='k', prop = { \"size\": 15 }, loc =\"upper right\")\n",
    "#plt.legend(facecolor='k', labelcolor='w')\n",
    "plt.plot(fx,fy,'r')\n",
    "plt.title('(4786) Tatianina', fontsize = 18)\n",
    "plt.xlabel('Phase Angle (Degrees)', fontsize = 14)\n",
    "plt.ylabel('Reduced Magnitude', fontsize = 14)\n",
    "plt.ylim(max(nysa['V'])-0.03, min(nysa['V']-0.07))\n",
    "plt.xticks(fontsize=12)\n",
    "plt.yticks(fontsize=12)\n",
    "plt.axvline(x=7, color='gray', linestyle='--', label='7 degrees') \n",
    "plt.text(0.5, 0.92, f'H = {round(13.68, 2)} ± {round(rmse,2)}' + f'\\n' + f'G = 0.40', \n",
    "         horizontalalignment='left', \n",
    "         verticalalignment='top', \n",
    "         fontsize=17, \n",
    "         bbox=dict(facecolor='white', edgecolor='black', boxstyle='Square, pad=0.5'), \n",
    "         transform=plt.gca().transAxes)\n",
    "\n",
    "plt.text(0.046, 0.1, f'Albedo = 0.32',\n",
    "         horizontalalignment='left', verticalalignment='bottom', \n",
    "         fontsize=17, color='darkblue', \n",
    "         transform=plt.gca().transAxes)\n",
    "plt.show()"
   ]
  }
 ],
 "metadata": {
  "kernelspec": {
   "display_name": "Python 3 (ipykernel)",
   "language": "python",
   "name": "python3"
  },
  "language_info": {
   "codemirror_mode": {
    "name": "ipython",
    "version": 3
   },
   "file_extension": ".py",
   "mimetype": "text/x-python",
   "name": "python",
   "nbconvert_exporter": "python",
   "pygments_lexer": "ipython3",
   "version": "3.11.7"
  }
 },
 "nbformat": 4,
 "nbformat_minor": 5
}
